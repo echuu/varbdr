{
 "cells": [
  {
   "cell_type": "code",
   "execution_count": 1,
   "metadata": {},
   "outputs": [
    {
     "name": "stderr",
     "output_type": "stream",
     "text": [
      "/home/eric/anaconda3/lib/python3.6/site-packages/h5py/__init__.py:36: FutureWarning: Conversion of the second argument of issubdtype from `float` to `np.floating` is deprecated. In future, it will be treated as `np.float64 == np.dtype(float).type`.\n",
      "  from ._conv import register_converters as _register_converters\n"
     ]
    }
   ],
   "source": [
    "from __future__ import absolute_import\n",
    "from __future__ import division\n",
    "from __future__ import print_function\n",
    "\n",
    "import numpy as np\n",
    "import seaborn as sns\n",
    "from matplotlib import pyplot as plt\n",
    "\n",
    "import scipy.stats as stats\n",
    "import tensorflow as tf\n",
    "import os\n"
   ]
  },
  {
   "cell_type": "code",
   "execution_count": 2,
   "metadata": {},
   "outputs": [],
   "source": [
    "slim = tf.contrib.slim\n",
    "Exponential = tf.contrib.distributions.Exponential(rate = 1.0)     # exp(1)\n",
    "Normal1 = tf.contrib.distributions.Normal(loc = -2.0, scale = 1.0) # N(-2, 1)\n",
    "Normal2 = tf.contrib.distributions.Normal(loc = 2.0, scale = 1.0)  # N( 2, 1)\n",
    "Normal = tf.contrib.distributions.Normal(loc = 0., scale = 1.0)    # N( 0, 1)\n",
    "\n",
    "directory = os.getcwd()"
   ]
  },
  {
   "cell_type": "code",
   "execution_count": 3,
   "metadata": {},
   "outputs": [],
   "source": [
    "def sample_n(mu, sigma):\n",
    "    eps = tf.random_normal(shape = tf.shape(mu)) # sample random noise ~ N(0, 1)\n",
    "    z = mu + eps * sigma\n",
    "    return z\n",
    "\n",
    "\n",
    "def sample_hyper(noise_dim,K,reuse=False): \n",
    "    z_dim = 1\n",
    "    with tf.variable_scope(\"hyper_q\") as scope:\n",
    "        if reuse:\n",
    "            scope.reuse_variables()\n",
    "        e2 = tf.random_normal(shape=[K,noise_dim])\n",
    "        input_ = e2\n",
    "        h2 = slim.stack(input_,slim.fully_connected,[20,40,20])\n",
    "        mu = tf.reshape(slim.fully_connected(h2, z_dim, activation_fn = None, \n",
    "                                             scope = 'implicit_hyper_mu'), [-1,1])\n",
    "    return mu"
   ]
  },
  {
   "cell_type": "code",
   "execution_count": 4,
   "metadata": {
    "scrolled": true
   },
   "outputs": [
    {
     "name": "stdout",
     "output_type": "stream",
     "text": [
      "WARNING:tensorflow:From <ipython-input-4-11f684e1bb30>:25: calling reduce_mean (from tensorflow.python.ops.math_ops) with keep_dims is deprecated and will be removed in a future version.\n",
      "Instructions for updating:\n",
      "keep_dims is deprecated, use keepdims instead\n",
      "iter: 0001 cost= 0.6787469\n",
      "iter: 0501 cost= -1.4907397\n",
      "iter: 1001 cost= -1.542794\n",
      "iter: 1501 cost= -1.5502045\n",
      "iter: 2001 cost= -1.5512751\n",
      "iter: 2501 cost= -1.546396\n",
      "iter: 3001 cost= -1.5428218\n",
      "iter: 3501 cost= -1.553041\n",
      "iter: 4001 cost= -1.5402932\n",
      "iter: 4501 cost= -1.5473591\n"
     ]
    }
   ],
   "source": [
    "data_p = {\"1\":\"gaussian\",\"2\":\"laplace\",\"3\":\"gmm\"}\n",
    "data_number = \"3\"\n",
    "target = data_p[data_number] \n",
    "   \n",
    "#%%\n",
    "noise_dim = 10\n",
    "K = 20 \n",
    "\n",
    "psi_sample = sample_hyper(noise_dim,K)\n",
    "\n",
    "sigma = tf.constant(0.2)\n",
    "z_sample = sample_n(psi_sample,sigma) \n",
    "\n",
    "\n",
    "J = tf.placeholder(tf.int32, shape=()) \n",
    "psi_star = tf.transpose(sample_hyper(noise_dim,J,reuse=True)) \n",
    "\n",
    "merge = tf.placeholder(tf.int32, shape=[])\n",
    "psi_star = tf.cond(merge>0,\n",
    "                   lambda:tf.concat([psi_star,tf.transpose(psi_sample)],1),\n",
    "                   lambda:psi_star)\n",
    "\n",
    "\n",
    "log_H= tf.log(tf.reduce_mean(tf.exp(-0.5*tf.square(z_sample-psi_star)/tf.square(sigma)),\n",
    "                             axis=1,keep_dims=True))\n",
    "\n",
    "#log_Q = -tf.log(sigma)-0.5*tf.square(z_sample-psi_sample)/tf.square(sigma)\n",
    "#regular = log_Q - log_H\n",
    "\n",
    "if target == 'gaussian':\n",
    "    log_P = -tf.log(3.0)-0.5*tf.square(z_sample)/tf.square(3.0) #gaussian\n",
    "elif target == 'laplace':\n",
    "    log_P = -0.5*tf.abs(z_sample) #laplace(mu=0,b=2)\n",
    "elif target == 'gmm': # gaussian mixture\n",
    "    log_P =tf.log(0.3*tf.exp(-tf.square(z_sample+2)/2) + \\\n",
    "                  0.7*tf.exp(-tf.square(z_sample-2)/2))\n",
    "else:\n",
    "    raise ValueError('No pre-defined target distribution, you can write your own log(PDF) ')\n",
    "    \n",
    "loss = tf.reduce_mean(log_H - log_P)\n",
    "\n",
    "nn_var =  slim.get_model_variables()\n",
    "lr=tf.constant(0.01)\n",
    "train_op1 = tf.train.AdamOptimizer(learning_rate=lr).minimize(loss,var_list=nn_var)\n",
    "\n",
    "init_op=tf.global_variables_initializer()\n",
    "\n",
    "\n",
    "#%%\n",
    "# merge == 1 corresponds to lower bound; merge==0 corresponds to upper bound\n",
    "sess=tf.InteractiveSession()\n",
    "sess.run(init_op)\n",
    "record = []\n",
    "for i in range(5000):\n",
    "    _,cost=sess.run([train_op1,loss],{lr:0.01*(0.75**(i/100)),J:100,merge:1})\n",
    "    record.append(cost)\n",
    "    if i%500 == 0:\n",
    "        print(\"iter:\", '%04d' % (i+1), \"cost=\", np.mean(record))\n",
    "        record = []\n",
    "#%% plot Q and target\n",
    "r_hive=[]\n",
    "for i in range(100):\n",
    "    r = sess.run(z_sample)\n",
    "    r_hive.extend(np.squeeze(r))\n",
    "\n",
    "yy=[]\n",
    "xx = np.arange(-10,10,0.01)\n",
    "for r in xx:\n",
    "    if target=='gaussian':\n",
    "        pdf = stats.norm.pdf(r, loc=0, scale=3) #gaussian\n",
    "    elif target=='laplace':\n",
    "        pdf = 1/4*np.exp(-0.5*np.abs(r)) #laplace\n",
    "    elif target=='gmm':\n",
    "        pdf = 0.3*stats.norm.pdf(r, loc=-2, scale=1) + \\\n",
    "                0.7*stats.norm.pdf(r, loc=2, scale=1) #gmm\n",
    "    yy.append(pdf)"
   ]
  },
  {
   "cell_type": "code",
   "execution_count": 5,
   "metadata": {},
   "outputs": [
    {
     "name": "stderr",
     "output_type": "stream",
     "text": [
      "/home/eric/anaconda3/lib/python3.6/site-packages/matplotlib/axes/_axes.py:6462: UserWarning: The 'normed' kwarg is deprecated, and has been replaced by the 'density' kwarg.\n",
      "  warnings.warn(\"The 'normed' kwarg is deprecated, and has been \"\n"
     ]
    },
    {
     "data": {
      "text/plain": [
       "<matplotlib.legend.Legend at 0x7f2caefe3cf8>"
      ]
     },
     "execution_count": 5,
     "metadata": {},
     "output_type": "execute_result"
    },
    {
     "data": {
      "image/png": "[encoded data removed]",
      "text/plain": [
       "<Figure size 432x288 with 1 Axes>"
      ]
     },
     "metadata": {},
     "output_type": "display_data"
    }
   ],
   "source": [
    "ax=plt.figure()\n",
    "ax=sns.distplot(r_hive,label='Q distribution')\n",
    "ax=plt.plot(xx,yy,'y-',label='P distribution')\n",
    "plt.legend()"
   ]
  },
  {
   "cell_type": "code",
   "execution_count": 6,
   "metadata": {},
   "outputs": [
    {
     "name": "stderr",
     "output_type": "stream",
     "text": [
      "/home/eric/anaconda3/lib/python3.6/site-packages/matplotlib/axes/_axes.py:6462: UserWarning: The 'normed' kwarg is deprecated, and has been replaced by the 'density' kwarg.\n",
      "  warnings.warn(\"The 'normed' kwarg is deprecated, and has been \"\n"
     ]
    },
    {
     "data": {
      "text/plain": [
       "Text(0.5,1,'Gaussian \\\\mu_i')"
      ]
     },
     "execution_count": 6,
     "metadata": {},
     "output_type": "execute_result"
    },
    {
     "data": {
      "image/png": "[encoded data removed]",
      "text/plain": [
       "<Figure size 432x288 with 1 Axes>"
      ]
     },
     "metadata": {},
     "output_type": "display_data"
    }
   ],
   "source": [
    "#%% plot latent\n",
    "latent=[]\n",
    "for i in range(200):\n",
    "    muu = sess.run(psi_sample)\n",
    "    latent.extend(np.squeeze(muu))\n",
    "plt.figure()\n",
    "sns.distplot(latent)\n",
    "plt.title(\"Gaussian \\mu_i\")"
   ]
  }
 ],
 "metadata": {
  "kernelspec": {
   "display_name": "Python 3",
   "language": "python",
   "name": "python3"
  },
  "language_info": {
   "codemirror_mode": {
    "name": "ipython",
    "version": 3
   },
   "file_extension": ".py",
   "mimetype": "text/x-python",
   "name": "python",
   "nbconvert_exporter": "python",
   "pygments_lexer": "ipython3",
   "version": "3.6.7"
  }
 },
 "nbformat": 4,
 "nbformat_minor": 2
}
